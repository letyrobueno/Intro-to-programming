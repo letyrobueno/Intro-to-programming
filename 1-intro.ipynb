{
 "cells": [
  {
   "cell_type": "markdown",
   "metadata": {},
   "source": [
    "# Computer Programming in Java\n",
    "\n",
    "## (1) Introduction"
   ]
  },
  {
   "cell_type": "markdown",
   "metadata": {},
   "source": [
    "This course is supposed to teach the fundamentals of computer programming using Java as a first language. Therefore, we will keep the activities on Jupyter Notebooks and will use an IDE just in the next module (namely Oriented-Object Programming - OOP). This way we can now keep our attention on the programming logic itself, which is difficult enough for students with no programming knowledge, and we keep everything related to OOP concepts closed in the next module (since even the main procedure needs an OOP explanation).\n",
    "\n",
    "Let's start by writing something to the user:"
   ]
  },
  {
   "cell_type": "code",
   "execution_count": 1,
   "metadata": {},
   "outputs": [
    {
     "name": "stdout",
     "output_type": "stream",
     "text": [
      "Hello World!\n"
     ]
    }
   ],
   "source": [
    "System.out.println(\"Hello World!\");"
   ]
  },
  {
   "attachments": {},
   "cell_type": "markdown",
   "metadata": {},
   "source": [
    "Every program follows this structure:\n",
    "\n",
    "<img src=\"diagram1.png\">"
   ]
  },
  {
   "cell_type": "markdown",
   "metadata": {},
   "source": [
    "In the above example, the data is `\"Hello, World!\"` and the processing done by the computer is showing this to the user on the screen. The output is `\"Hello, World!\"` shown on the screen. Here, to separate processing from output seems difficult, but there is an elaborated processing even in writing something on the screen (the program has to communicate to the operating system to decide where to show the text on the screen, some memory is used to store the sentence, etc).\n",
    "\n",
    "### (1.1) Advices to students to succeed this course\n",
    "\n",
    "1. You need not to be afraid of doing something wrong. We are using a high-level language that avoids catastrophic mistakes, so if you do something so bad, this will really be evidence that you know much more than you need to pass this course, and you wouldn't be doing it accidentally, but on purpose.\n",
    "\n",
    "2. Computers are dumb. All they can do is because someone has taught them. And we are here to learn how to do that. This means that we will command the computer by saying what it should do and in which situation. So you need to be confident and assertive enough to pass this course. This can be scaring, but don't worry. You will not put the Internet down or set any computer on fire.\n",
    "\n",
    "3. Last but most importantly, the most essential for a programming student is persistence. One or two or three, or even 20 failures, does not mean programming is not for you. I know how frustrating it can be to see red messages scolding you, but that doesn't mean you're stupid, just that you're learning as babies learn to walk. But there is one exciting thing to know: programming is something completely rational, so your program works or not. If not, there is a coherent explanation, which you can use to improve your programming skills. It is true that a same problem can have many different solutions, but even if someone doesn't like your solution, if it's correct, they have to comply with it (unless there are problems about how fast your solution is, but this is a topic for a future and more advanced course). Finally, just as with learning to walk, programming improves as you practice. It's imperative to practice to succeed in a programming course.\n",
    "\n",
    "\n",
    "### (1.2) Representing data in the computer\n",
    "\n",
    "Consider that:\n",
    " - __Data:__ values used in a program that, after being processed, can generate some information. They can be classified as variables or constants. In addition, they can be classified according to the type of information as, for example, text (`char`), integer numbers (`byte`, `short`, `int` or `long`), real numbers (`float` or `double`), logical (`boolean`), and the constructed type (which we are going to study afterwards).\n",
    " - __Operators:__ represent expressions of (i) calculation (arithmetical); (ii) comparison (relational); (iii) conditional (logical), and; (iv) attribution.\n",
    " - __Precedence:__ when an expression involves more than one operator, its evaluation follows an order, called _order of precedence_, which defines the order of execution of the operators."
   ]
  },
  {
   "cell_type": "code",
   "execution_count": 2,
   "metadata": {},
   "outputs": [
    {
     "name": "stdout",
     "output_type": "stream",
     "text": [
      "Result of long type: 12\n",
      "Result of double type: 20.5251\n",
      "Result of boolean type: true\n",
      "The condition is: false\n"
     ]
    },
    {
     "data": {
      "text/plain": [
       "java.io.PrintStream@3af1bafc"
      ]
     },
     "execution_count": 2,
     "metadata": {},
     "output_type": "execute_result"
    }
   ],
   "source": [
    "// Primitive data types in Java\n",
    "\n",
    "// Integer types\n",
    "byte a = 1;  // it takes 1 byte of memory, from -128 to 127\n",
    "short b = 1; // it takes 2 bytes of memory, from -32.768 to 32.767\n",
    "int c = 1;   // it takes 4 bytes of memory, from -2.147.483.648 to 2.147.483.647\n",
    "long d = 1;  // it takes 8 bytes of memory\n",
    "\n",
    "// Floating-point types\n",
    "float pi = 3.14159f; // it takes 4 bytes of memory, underflow: 3,4e-38; overflow: 3,4e+38\n",
    "double g = 9.8;      // it takes 8 bytes of memory, underflow: 1,7e-308; overflow 1,7e+308\n",
    "\n",
    "// Boolean types - possible values: true or false; default: false\n",
    "boolean cinema = true;    // it takes 1 byte of memory\n",
    "boolean beach = true;\n",
    "boolean work = false;\n",
    "boolean cond = (2>=5);\n",
    "\n",
    "// Some possible operations\n",
    "long result1 = (a + b + c + d) * 3;   // if you remove the parentheses, what happens?\n",
    "double result2 = (2 * pi * g) / 3;  // if you remove the parentheses, what happens?\n",
    "boolean result3 = (cinema || beach) && (!work);\n",
    "\n",
    "// Printing the results\n",
    "System.out.printf(\"%s%d\\n\", \"Result of long type: \", result1);\n",
    "System.out.printf(\"%s%2.4f\\n\", \"Result of double type: \", result2);\n",
    "System.out.printf(\"%s%b\\n\", \"Result of boolean type: \", result3);\n",
    "System.out.printf(\"%s%b\\n\", \"The condition is: \", cond);"
   ]
  },
  {
   "cell_type": "markdown",
   "metadata": {},
   "source": [
    "## Guidelines to name variables:\n",
    "\n",
    " * It must have one or more characters;\n",
    " * It must start with a letter, which can be followed by numbers and other letters;\n",
    " * No spaces among the characters (use underline to separate words);\n",
    " * No special characters such as $, @, #, &, etc;\n",
    " * It cannot be a reserved word such as `float`, `int`, `for`, `if`, etc;\n",
    " * __Hint__: Be succinct and use coherent names that indicate the character of the value stored in the variable."
   ]
  },
  {
   "cell_type": "markdown",
   "metadata": {},
   "source": [
    "Let's calculate the area of a circle."
   ]
  },
  {
   "cell_type": "code",
   "execution_count": 1,
   "metadata": {
    "scrolled": false
   },
   "outputs": [
    {
     "name": "stdout",
     "output_type": "stream",
     "text": [
      "The area of the circle 2.0 is 12.56636\n"
     ]
    }
   ],
   "source": [
    "import javax.swing.JOptionPane;\n",
    "\n",
    "double radius;\n",
    "double area;\n",
    "final double PI = 3.14159;\n",
    "\n",
    "// Input: it takes the value of the radius\n",
    "radius = Double.parseDouble(JOptionPane.showInputDialog(\"Enter the radius of the circle: \"));\n",
    "\n",
    "// Processing: it calculates the area\n",
    "area = PI * radius * radius;\n",
    "\n",
    "// Output: it presents results in the screen for the user\n",
    "System.out.println(\"The area of the circle \"  + radius + \" is \" + area);"
   ]
  },
  {
   "cell_type": "markdown",
   "metadata": {},
   "source": [
    "## Exercises\n",
    "\n",
    "1. Change the program above so that the result is presented with only two decimal places (use `printf`).\n",
    "2. Make an algorithm that takes four student's grades (real numbers) and print the mean of the numbers.\n",
    "3. Make an algorithm that takes four student's grades (real numbers) and the weights for each grade. Then it calculates and print the weighted average.\n",
    "4. Make an algorithm that takes two integer numbers and prints their product.\n",
    "5. Make an algorithm that takes the birth year of a person and the current year, calculates and shows:\n",
    "    * The age of the person;\n",
    "    * How old this person will be in $2030$.\n",
    "6. Make an algorithm to calculate:\n",
    "    * The square of $10$.\n",
    "    * The cube of $3$.\n",
    "    * The remainder of 1000 divided by $3.5$."
   ]
  }
 ],
 "metadata": {
  "kernelspec": {
   "display_name": "SciJava",
   "language": "groovy",
   "name": "scijava"
  },
  "language_info": {
   "codemirror_mode": "groovy",
   "file_extension": "",
   "mimetype": "",
   "name": "scijava",
   "nbconverter_exporter": "",
   "pygments_lexer": "groovy",
   "version": "1.0"
  }
 },
 "nbformat": 4,
 "nbformat_minor": 2
}
