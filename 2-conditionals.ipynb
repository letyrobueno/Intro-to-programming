{
 "cells": [
  {
   "cell_type": "markdown",
   "metadata": {},
   "source": [
    "# Introduction to Computer Programming in Java\n",
    "## (2) Control Structures: Selection"
   ]
  },
  {
   "cell_type": "markdown",
   "metadata": {},
   "source": [
    "<p>A <i>selection</i> command &mdash; also called a <i>decision</i> &mdash; defines a condition in a program, which allows groups of commands be executed in a conditional way, according to the result of the evaluation of a specific test (true or false). That is, programs use selection commands to choose among alternative courses of actions. They can be classified in (i) <i>single-selection</i>; (ii) <i>double-selection</i>, and; (iii) <i>multiple-selection</i>.</p>\n",
    "\n",
    "### (2.1) Single-selection structure\n",
    "    \n",
    "<p>The <b>single-selection structure</b> verifies if a given condition is satisfied. If so, a set of instructions will be performed; otherwise, action is skipped and the program continues. The representation in Java is:</p>\n",
    "    \n",
    "```java\n",
    "if (condition) {\n",
    "\t<set of instructions>;\n",
    "}\n",
    "```\n",
    "\n",
    "<p><font color=\"blue\"><b>Example:</b></font></p>"
   ]
  },
  {
   "cell_type": "code",
   "execution_count": 1,
   "metadata": {},
   "outputs": [
    {
     "name": "stdout",
     "output_type": "stream",
     "text": [
      "10 is even\n"
     ]
    }
   ],
   "source": [
    "import javax.swing.JOptionPane;\n",
    "\n",
    "int i = Integer.parseInt(JOptionPane.showInputDialog(\"Enter with a number: \"));\n",
    "\n",
    "// Notice that = is the assignment operator, and == is the equality operator\n",
    "if (i % 2 == 0) { // operator % gets the remainder of the division by 2\n",
    "    System.out.println(i + \" is even\");\n",
    "}"
   ]
  },
  {
   "cell_type": "markdown",
   "metadata": {},
   "source": [
    "<p><font color=\"red\"><b>If there is just one instruction, we can ommit the braces as in:</b></font></p>"
   ]
  },
  {
   "cell_type": "code",
   "execution_count": 17,
   "metadata": {},
   "outputs": [
    {
     "name": "stdout",
     "output_type": "stream",
     "text": [
      "6 is even\n"
     ]
    }
   ],
   "source": [
    "import javax.swing.JOptionPane;\n",
    "\n",
    "int i = Integer.parseInt(JOptionPane.showInputDialog(\"Enter with a number: \"));\n",
    "\n",
    "if (i % 2 == 0) System.out.println(i + \" is even\");"
   ]
  },
  {
   "cell_type": "markdown",
   "metadata": {},
   "source": [
    "### (2.2) Double-selection structure\n",
    "    \n",
    "<p>The <b>double-selection structure</b> allows selection between two sets of instructions according to the evaluation of a condition: a set will be performed if the condition is evaluated as true, and the another one if the condition is false. The representation in Java is:</p>\n",
    "\n",
    "```java\n",
    "if (condition) {\n",
    "\t<set of instructions A>;\n",
    "} else{\n",
    "\t<set of instructions B>;\n",
    "}\n",
    "```\n",
    "\n",
    "<p><font color=\"blue\"><b>Example:</b></font></p>"
   ]
  },
  {
   "cell_type": "code",
   "execution_count": 6,
   "metadata": {},
   "outputs": [
    {
     "name": "stdout",
     "output_type": "stream",
     "text": [
      "3 is odd\n"
     ]
    }
   ],
   "source": [
    "import javax.swing.JOptionPane;\n",
    "\n",
    "int i = Integer.parseInt(JOptionPane.showInputDialog(\"Enter with a number: \"));\n",
    "\n",
    "if (i % 2 == 0) {\n",
    "    System.out.println(i + \" is even\");\n",
    "} else {\n",
    "    System.out.println(i + \" is odd\");\n",
    "}"
   ]
  },
  {
   "cell_type": "markdown",
   "metadata": {},
   "source": [
    "<p>Both single-selection and double-selection can also be a <b>nested selection structure</b> which either the true path or the false path includes another selection structure. For example:</p>\n",
    "\n",
    "```java\n",
    "if (condition 1 ) {\n",
    "\tif ( condition 2) {\n",
    "\t\t<set of instructions A>;\n",
    "\t} else {\n",
    "\t\t<set of instructions B>;\n",
    "\t}\n",
    "} else {\n",
    "\t<set of instructions C>;\n",
    "}\n",
    "```\n",
    "\n",
    "<p><font color=\"blue\"><b>Example:</b></font></p>"
   ]
  },
  {
   "cell_type": "code",
   "execution_count": 9,
   "metadata": {},
   "outputs": [
    {
     "name": "stdout",
     "output_type": "stream",
     "text": [
      "12 is even and also multiple of 3\n"
     ]
    }
   ],
   "source": [
    "import javax.swing.JOptionPane;\n",
    "\n",
    "int i = Integer.parseInt(JOptionPane.showInputDialog(\"Enter with a number: \"));\n",
    "\n",
    "if (i % 2 == 0) {\n",
    "    if (i % 3 == 0) {\n",
    "        System.out.println(i + \" is even and also multiple of 3\");\n",
    "    } else {\n",
    "        System.out.println(i + \" is even and not multiple of 3\");\n",
    "    }\n",
    "} else {\n",
    "    System.out.println(i + \" is odd\");\n",
    "}"
   ]
  },
  {
   "cell_type": "markdown",
   "metadata": {},
   "source": [
    "### (2.3) Multiple-selection structure\n",
    "\n",
    "<p>The <b>multiple-selection structure</b> allows selection among many actions depending on the integral value of a variable or expression. Representation in Java:</p>\n",
    "\n",
    "```java\n",
    "switch (variable) { \n",
    "    case condition1:\n",
    "        <set of instructions A>\n",
    "        break;\n",
    "    case condition2:\n",
    "        <set of instructions B>\n",
    "        break;\n",
    "    case condition3:\n",
    "        <set of instructions C>\n",
    "        break;\n",
    "    case condition4:\n",
    "        <set of instructions D>\n",
    "        break;\n",
    "    // and so on\n",
    "    default:\n",
    "        <set of instructions Z>\n",
    " }\n",
    "```\n",
    "\n",
    "<p><font color=\"blue\"><b>Example:</b></font></p>"
   ]
  },
  {
   "cell_type": "code",
   "execution_count": 15,
   "metadata": {},
   "outputs": [
    {
     "name": "stdout",
     "output_type": "stream",
     "text": [
      "5 - 3 is equal to 2\n"
     ]
    }
   ],
   "source": [
    "import javax.swing.JOptionPane;\n",
    "\n",
    "int num1 = Integer.parseInt(JOptionPane.showInputDialog(\"Enter with a number: \"));\n",
    "int num2 = Integer.parseInt(JOptionPane.showInputDialog(\"Enter with a number: \"));\n",
    "char operator = JOptionPane.showInputDialog(\"Enter with an arithmetic operator: \");\n",
    "\n",
    "switch (operator) { \n",
    "    case '+':\n",
    "        System.out.println(num1 + \" \" + operator + \" \" + num2 + \" is equal to \" + (num1 + num2));\n",
    "        break;\n",
    "    case '-':\n",
    "        System.out.println(num1 + \" \" + operator + \" \" + num2 + \" is equal to \" + (num1 - num2));\n",
    "        break;\n",
    "    case '*':\n",
    "        System.out.println(num1 + \" \" + operator + \" \" + num2 + \" is equal to \" + (num1 * num2));\n",
    "        break;\n",
    "    case '/':\n",
    "        System.out.println(num1 + \" \" + operator + \" \" + num2 + \" is equal to \" + (num1 / num2));\n",
    "        break;\n",
    "    default:\n",
    "        System.out.println(\"Invalid operator!\");\n",
    " }"
   ]
  },
  {
   "cell_type": "markdown",
   "metadata": {},
   "source": [
    "### (2.4) Comparison operators\n",
    "\n",
    "The comparison among numerical variables can be done by using the following table of commands, which are very similar to the traditional mathematical language:\n",
    "\n",
    "| Comparison            | Operator in Java |\n",
    "|-----------------------|------------------|\n",
    "|   Equal (=)           |        ==        |\n",
    "|   Different ($\\neq$)  |        !=        |\n",
    "|   Greater than (>)    |        >         |\n",
    "|   Less than (<)       |        <         |\n",
    "|   Greater-or-equal ($\\geq$)|        >=        |\n",
    "|   Less-or-equal ($\\leq$)   |        <=        |\n",
    "\n",
    "Besides comparing two variables, we can also compare mathematical expressions. For example:\n",
    "\n",
    "```java\n",
    "if ((var1 * 10.0 - 2.4) >= (var2 / 2.1 + 3.0))\n",
    "    <set of instructions A>\n",
    "else <set of instructions B>\n",
    "```"
   ]
  },
  {
   "cell_type": "markdown",
   "metadata": {},
   "source": [
    "## Examples\n",
    "\n",
    "### 1. First Example\n",
    "\n",
    "We will make a program that takes the grade of a student and returns his score. The classification is as follows:\n",
    "\n",
    "| Grade            | Score  |\n",
    "|------------------|--------|\n",
    "| Above 9.0        |    A   |\n",
    "| Above 7.5        |    B   |\n",
    "| Above 6.5        |    C   |\n",
    "| Above 5.0        |    D   |\n",
    "| Less-or-equal 5.0|    F   |\n"
   ]
  },
  {
   "cell_type": "code",
   "execution_count": 13,
   "metadata": {
    "scrolled": false
   },
   "outputs": [
    {
     "name": "stdout",
     "output_type": "stream",
     "text": [
      "The student's grade is 9.1 whose score is A\n"
     ]
    }
   ],
   "source": [
    "import javax.swing.JOptionPane;\n",
    "\n",
    "// Input: it takes the value of student's grade that we assume as positive, for simplicity\n",
    "double grade = Double.parseDouble(JOptionPane.showInputDialog(\"Enter the student's grade: \"));\n",
    "\n",
    "char score;\n",
    "\n",
    "// Processing: it determines the score\n",
    "if (grade > 9) {\n",
    "    score = 'A';\n",
    "} else if (grade > 7.5) {\n",
    "    score = 'B';\n",
    "} else if (grade > 6.5) {\n",
    "    score = 'C';\n",
    "} else if (grade > 5) {\n",
    "    score = 'D';\n",
    "} else {\n",
    "    score = 'F';\n",
    "}\n",
    "\n",
    "// Output: it \"prints\" the student' score to the user\n",
    "System.out.println(\"The student's grade is \" + grade + \" whose score is \" + score);"
   ]
  },
  {
   "cell_type": "markdown",
   "metadata": {},
   "source": [
    "### 2. Second Example\n",
    "\n",
    "We will now make a program that takes three integer numbers and prints them in ascending order. We are going to use a nested selection structure to determine the order among the numbers."
   ]
  },
  {
   "cell_type": "code",
   "execution_count": 38,
   "metadata": {},
   "outputs": [
    {
     "name": "stdout",
     "output_type": "stream",
     "text": [
      "The ascending order is:\n",
      " 1 2 3"
     ]
    },
    {
     "data": {
      "text/html": [
       "java&#8203;.io&#8203;.PrintStream&#8203;@7472fc7c"
      ]
     },
     "execution_count": 38,
     "metadata": {},
     "output_type": "execute_result"
    }
   ],
   "source": [
    "import javax.swing.JOptionPane;\n",
    "\n",
    "int num1, num2, num3;\n",
    "\n",
    "num1 = Integer.parseInt(JOptionPane.showInputDialog(\"Enter the first number: \"));\n",
    "num2 = Integer.parseInt(JOptionPane.showInputDialog(\"Enter the second number: \"));\n",
    "num3 = Integer.parseInt(JOptionPane.showInputDialog(\"Enter the third number: \"));\n",
    "\n",
    "// Notice that 3 numbers gives us 6 possible combinations since 3!=6\n",
    "if (num1 > num2) {\n",
    "    if (num2 > num3) { \n",
    "        System.out.printf(\"The ascending order is:\\n %d %d %d\", num3, num2, num1);\n",
    "    } else if (num1 > num3) {\n",
    "        System.out.printf(\"The ascending order is:\\n %d %d %d\", num2, num3, num1);\n",
    "    } else { \n",
    "       System.out.printf(\"The ascending order is:\\n %d %d %d\", num2, num1, num3);\n",
    "    }\n",
    "} else if (num1 > num3) { // here we already know that num1 <= num2\n",
    "    System.out.printf(\"The ascending order is:\\n %d %d %d\", num3, num1, num2);\n",
    "} else if (num2 > num3) { \n",
    "    System.out.printf(\"The ascending order is:\\n %d %d %d\", num1, num3, num2);\n",
    "} else {\n",
    "    System.out.printf(\"The ascending order is:\\n %d %d %d\", num1, num2, num3);\n",
    "}"
   ]
  },
  {
   "cell_type": "markdown",
   "metadata": {},
   "source": [
    "### 3. Third Example - Using Switch\n",
    "\n",
    "Let's make a program that takes an integer number and gives the corresponding day of the week. We will use the multiple selection structure `switch`."
   ]
  },
  {
   "cell_type": "code",
   "execution_count": 37,
   "metadata": {},
   "outputs": [
    {
     "name": "stdout",
     "output_type": "stream",
     "text": [
      "7 is Saturday\n"
     ]
    }
   ],
   "source": [
    "import javax.swing.JOptionPane;\n",
    "\n",
    "int day;\n",
    "\n",
    "day = Integer.parseInt(JOptionPane.showInputDialog(\"Give an integer number: \"));\n",
    "\n",
    "// multiple selection: it works only with the types char, int, short, byte, and String\n",
    "switch (day) { \n",
    "    case 1:\n",
    "        System.out.println(day + \" is Sunday\");\n",
    "        break;\n",
    "    case 2:\n",
    "        System.out.println(day + \" is Monday\");\n",
    "        break;\n",
    "    case 3:\n",
    "        System.out.println(day + \" is Tuesday\");\n",
    "        break;\n",
    "    case 4:\n",
    "        System.out.println(day + \" is Wednesday\");\n",
    "        break;\n",
    "    case 5:\n",
    "        System.out.println(day + \" is Thursday\");\n",
    "        break;\n",
    "    case 6:\n",
    "        System.out.println(day + \" is Friday\");\n",
    "        break;\n",
    "    case 7:\n",
    "        System.out.println(day + \" is Saturday\");\n",
    "        break;\n",
    "    default:\n",
    "        System.out.println(\"Not a valid week day!\");\n",
    " }"
   ]
  },
  {
   "cell_type": "markdown",
   "metadata": {},
   "source": [
    "## Exercises\n",
    "\n",
    "1. Make a program that takes the weight (in kilograms) and the height (in meters) of a person, and calculates the BMI - Body Mass Index (BMI = mass / height). In addition, the program must show the corresponding messages according to the following table:\n",
    "\n",
    "| BMI               | Category                                |\n",
    "|-------------------|-----------------------------------------|\n",
    "| Under 18.5        | \"Underweight\"                           |\n",
    "| From 18.5 to 24.9 | \"Normal (healthy weight)\"               |\n",
    "| From 25 to 29.9   | \"Overweight\"                            |\n",
    "| From 30 to 34.9   | \"Obese Class I (Moderately obese)\"      |\n",
    "| From 35 to 39.9   | \"Obese Class II (Severely obese)\"       |\n",
    "| From 40 to 45     | \"Obese Class III (Very severely obese)\" |\n",
    "\n",
    "2. Make a program that asks for the coefficients $a$, $b$, and $c$ of a quadratic equation and returns its solution(s). Don't forget to consider the following cases:\n",
    "    * $a=0$: linear equation, then calculate the only solution directly.\n",
    "    * $\\delta = 0$: calculate the only solution using the quadratic (Bhaskara) formula.\n",
    "    * $\\delta < 0$: calculate the two complex roots using the quadratic (Bhaskara) formula.\n",
    "    * $\\delta > 0$: calculate the two real roots using the quadratic (Bhaskara) formula.\n",
    "\n",
    "3. Make an algorithm that receives a number and shows the name of the corresponding month. Return an error message if the number does not match any month. **Hint:** use `switch`.\n",
    "\n",
    "4. What should you change in the second example to make the program print a descending order instead of an ascending one?"
   ]
  }
 ],
 "metadata": {
  "kernelspec": {
   "display_name": "SciJava",
   "language": "groovy",
   "name": "scijava"
  },
  "language_info": {
   "codemirror_mode": "groovy",
   "file_extension": "",
   "mimetype": "",
   "name": "scijava",
   "nbconverter_exporter": "",
   "pygments_lexer": "groovy",
   "version": "1.0"
  }
 },
 "nbformat": 4,
 "nbformat_minor": 2
}
