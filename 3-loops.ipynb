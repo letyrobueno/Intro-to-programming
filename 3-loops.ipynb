{
 "cells": [
  {
   "cell_type": "markdown",
   "metadata": {},
   "source": [
    "# Introduction to Computer Programming in Java\n",
    "## (3) Control Structures: Repetition (loops)"
   ]
  },
  {
   "cell_type": "markdown",
   "metadata": {},
   "source": [
    "<p>A <i>repetition</i> structure &mdash; or a <i>loop</i> &mdash; repeats a set of instructions until some condition is met, at which time the loop ends.</p>\n",
    "\n",
    "### (3.1) For-loops\n",
    "\n",
    "<p><b>For-loops</b> are most convenient with counting loops -- i.e. loops that are based on a counting variable, usually a known number of iterations. The representation in Java is:</p>\n",
    "    \n",
    "```java\n",
    "for (initialCondition; testing_Condition; increment/decrement) {\n",
    "\t<set of instructions>;\n",
    "}\n",
    "```\n",
    "\n",
    "<p><font color=\"blue\"><b>Example:</b></font></p>"
   ]
  },
  {
   "cell_type": "code",
   "execution_count": 61,
   "metadata": {
    "scrolled": false
   },
   "outputs": [
    {
     "name": "stdout",
     "output_type": "stream",
     "text": [
      "Iteration number 1\n",
      "Iteration number 2\n",
      "Iteration number 3\n",
      "Iteration number 4\n",
      "Iteration number 5\n"
     ]
    }
   ],
   "source": [
    "int n = 5;\n",
    "\n",
    "for (int i=1; i<=n; i++) { // we read: for i starting in 1 and going up to n one by one, do the following\n",
    "    System.out.println(\"Iteration number \" + i);\n",
    "}"
   ]
  },
  {
   "cell_type": "markdown",
   "metadata": {},
   "source": [
    "For the example above we have:\n",
    "* **initial condition**: $i$ starts with the number 1. Notice that, in this example, the variable $i$ is declared inside the `for` header, therefore it only has scope through the `for` loop's execution;\n",
    "* **testing condition**: for each iteration we test if $i \\leq n$ before we run the instructions inside the loop. This is our _stopping criteria_;\n",
    "* **increment/decrement**: in order to assure that loops end in a given moment, we have to set how they progress. Here we stablish that $i$ is incremented in one in each iteration. \n",
    "\n",
    "See below an example where $i$ progresses two by two, and that $i$ is declared before the loop.\n",
    "\n",
    "<p><font color=\"blue\"><b>Example:</b></font></p>"
   ]
  },
  {
   "cell_type": "code",
   "execution_count": 65,
   "metadata": {},
   "outputs": [
    {
     "name": "stdout",
     "output_type": "stream",
     "text": [
      "Iteration number 1\n",
      "Iteration number 3\n",
      "Iteration number 5\n",
      "Iteration number 7\n",
      "Iteration number 9\n",
      "\n",
      "Value inside the variable i after finished the loop: 11\n"
     ]
    }
   ],
   "source": [
    "int n = 10, i;\n",
    "\n",
    "for (i=1; i<=n; i=i+2) { // or still: for (i=1; i<=n; i+=2){  \n",
    "    System.out.println(\"Iteration number \" + i);\n",
    "}\n",
    "\n",
    "System.out.println(\"\\nValue inside the variable i after finished the loop: \" + i); // \\n inserts a newline"
   ]
  },
  {
   "cell_type": "markdown",
   "metadata": {},
   "source": [
    "<p><font color=\"blue\"><b>Another example:</b></font></p>"
   ]
  },
  {
   "cell_type": "code",
   "execution_count": 69,
   "metadata": {},
   "outputs": [
    {
     "name": "stdout",
     "output_type": "stream",
     "text": [
      "Iteration number 1\n",
      "Iteration number 2\n",
      "Iteration number 4\n",
      "Iteration number 8\n",
      "\n",
      "Value inside the variable i after finished the loop: 16\n"
     ]
    }
   ],
   "source": [
    "int n = 10, i;\n",
    "\n",
    "for (i=1; i<=n; i*=2) { // geometric progression with common ratio 2\n",
    "    System.out.println(\"Iteration number \" + i);\n",
    "}\n",
    "\n",
    "System.out.println(\"\\nValue inside the variable i after finished the loop: \" + i); // \\n inserts a newline"
   ]
  },
  {
   "cell_type": "markdown",
   "metadata": {},
   "source": [
    "<p><font color=\"red\"><b>As before, if there is just one instruction, we can ommit the braces as in:</b></font></p>"
   ]
  },
  {
   "cell_type": "code",
   "execution_count": 63,
   "metadata": {},
   "outputs": [
    {
     "name": "stdout",
     "output_type": "stream",
     "text": [
      "Iteration number 1\n",
      "Iteration number 2\n",
      "Iteration number 3\n",
      "Iteration number 4\n",
      "Iteration number 5\n"
     ]
    }
   ],
   "source": [
    "for (int i=1; i<=5; i++) System.out.println(\"Iteration number \" + i);"
   ]
  },
  {
   "cell_type": "markdown",
   "metadata": {},
   "source": [
    "### (3.2) While loops\n",
    "\n",
    "<p><b>While loops</b> has the following representation in Java:</p>\n",
    "    \n",
    "```java\n",
    "while (testing_Condition) {\n",
    "\t<set of instructions>;\n",
    "}\n",
    "```\n",
    "\n",
    "<p><font color=\"blue\"><b>Example:</b></font></p>"
   ]
  },
  {
   "cell_type": "code",
   "execution_count": 77,
   "metadata": {},
   "outputs": [
    {
     "name": "stdout",
     "output_type": "stream",
     "text": [
      "Iteration number 1\n",
      "Iteration number 2\n",
      "Iteration number 3\n",
      "Iteration number 4\n",
      "Iteration number 5\n"
     ]
    }
   ],
   "source": [
    "int n = 5;\n",
    "int i = 1; // initial condition\n",
    "\n",
    "while (i<=n) { // testing condition\n",
    "    System.out.println(\"Iteration number \" + i);\n",
    "    i++; // increment to progress the loop\n",
    "}"
   ]
  },
  {
   "cell_type": "markdown",
   "metadata": {},
   "source": [
    "### (3.3) Do-While loops\n",
    "\n",
    "<p><b>Do-While loops</b> has the following representation in Java:</p>\n",
    "    \n",
    "```java\n",
    "do {\n",
    "\t<set of instructions>;\n",
    "} while (testing_Condition);\n",
    "```\n",
    "\n",
    "<p><font color=\"blue\"><b>Example:</b></font></p>\n",
    "\n",
    "```java\n",
    "int n = 5;\n",
    "int i = 1; // initial condition\n",
    "\n",
    "do {\n",
    "    System.out.println(\"Iteration number \" + i);\n",
    "    i++; // increment to progress the loop\n",
    "} while (i<=n);  // testing condition\n",
    "```\n",
    "\n",
    "Notice that `Do-while` loops run at least one time, since the first evaluation of the testing condition is at the end.\n",
    "\n",
    "<p><font color=\"red\"><b>Not currently supported by SciJava.</b></font></p>"
   ]
  },
  {
   "cell_type": "markdown",
   "metadata": {},
   "source": [
    "### (3.4) Special statements\n",
    "\n",
    "* **break**: it causes immediate exit from any loop (as in the `switch` blocks);\n",
    "* **continue**: it causes the current iteration to end, and the loop then moves on to the next iteration;\n",
    "\n",
    "<p><font color=\"blue\"><b>Examples:</b></font></p>\n",
    "\n",
    "* `break` in a `while` loop:"
   ]
  },
  {
   "cell_type": "code",
   "execution_count": 70,
   "metadata": {},
   "outputs": [
    {
     "name": "stdout",
     "output_type": "stream",
     "text": [
      "i=0\n",
      "i=1\n",
      "i=2\n",
      "The result is 6\n"
     ]
    }
   ],
   "source": [
    "int result = 0;\n",
    "int i = 0;\n",
    "\n",
    "while (i<5) {\n",
    "    System.out.println(\"i=\" + i);\n",
    "    i++;\n",
    "    result+= i;\n",
    "    if (result >= 6) break;\n",
    "}\n",
    "\n",
    "System.out.println(\"The result is \" + result);"
   ]
  },
  {
   "cell_type": "markdown",
   "metadata": {},
   "source": [
    "* `continue` in a `while` loop:"
   ]
  },
  {
   "cell_type": "code",
   "execution_count": 75,
   "metadata": {},
   "outputs": [
    {
     "name": "stdout",
     "output_type": "stream",
     "text": [
      "i=0\n",
      "i=1\n",
      "i=2\n",
      "i=3\n",
      "i=4\n",
      "The result is 13\n"
     ]
    }
   ],
   "source": [
    "int result = 0;\n",
    "int i = 0;\n",
    "\n",
    "while (i < 5) {\n",
    "    System.out.println(\"i=\" + i);\n",
    "    i++;\n",
    "    if (i==2) continue; // it skips the sum of 2\n",
    "    result+= i;\n",
    "}\n",
    "\n",
    "System.out.println(\"The result is \" + result); // 1 + 3 + 4 + 5 = 13"
   ]
  },
  {
   "cell_type": "markdown",
   "metadata": {},
   "source": [
    "### (3.5) Pitfalls to avoid\n",
    "\n",
    "* Pay attention to not construct infinite loops. **Remember**: any loop needs 3 things: \n",
    "    1. initialization condition; \n",
    "    2. stopping criteria, and; \n",
    "    3. increment/decrement to determine how the loop must progress.\n",
    "\n",
    "<p><font color=\"red\"><b>Examples of infinite loops (to not execute the following code snippets!):</b></font></p>\n",
    "\n",
    "```java\n",
    "// (1) an infinite loop because stopping condition is never met\n",
    "// a better stopping condition would be i>0, for example\n",
    "for (int i = 5; i != 0; i -= 2) { \n",
    "    System.out.println(i); \n",
    "} \n",
    "\n",
    "// (2) an infinite loop because there is no increment/decrement\n",
    "int i = 1; // initial condition\n",
    "\n",
    "while (i<=5) { // stopping condition but...\n",
    "    System.out.println(\"i=\" + i); \n",
    "    // nor increment neither decrement is done\n",
    "}\n",
    "```"
   ]
  },
  {
   "cell_type": "markdown",
   "metadata": {},
   "source": [
    "## Examples\n",
    "\n",
    "### 1. First Example\n",
    "\n",
    "Extraction of digits from a number: the operator % returns the remainder of the division of a integer number by another one, which can be used to, for example, extract the digits of a number:"
   ]
  },
  {
   "cell_type": "code",
   "execution_count": 4,
   "metadata": {},
   "outputs": [
    {
     "name": "stdout",
     "output_type": "stream",
     "text": [
      "Number: 1234\n",
      "Digit extracted: 4\n",
      "Digit extracted: 3\n",
      "Digit extracted: 2\n",
      "Digit extracted: 1\n"
     ]
    }
   ],
   "source": [
    "import javax.swing.JOptionPane;\n",
    "\n",
    "int number, digit, numberTmp;\n",
    "\n",
    "number = Integer.parseInt(JOptionPane.showInputDialog(\"Enter with an number: \"));\n",
    "numberTmp = number;\n",
    "\n",
    "System.out.println(\"Number: \" + number);\n",
    "while (numberTmp > 0) {\n",
    "   digit = numberTmp % 10;\n",
    "   numberTmp = numberTmp / 10;\n",
    "   System.out.println(\"Digit extracted: \" + digit);\n",
    "}       "
   ]
  },
  {
   "cell_type": "markdown",
   "metadata": {},
   "source": [
    "## Exercises\n",
    "\n",
    "1. Change the First Example above and write a program that extracts the digits of a decimal number and prints their sum. For example, if you're given the number $1524$, the program should print: \"The sum of the digits of the number $1524$ is $12$\".\n",
    "\n",
    "2. Again consider the First Example above and change the program so that it prints the number of digits and the sum of even numbers. For example, for the number $1524$ the number of digits would be $4$ and the sum of even numbers would be $2 + 4 = 6$.\n",
    "\n",
    "3. Make a program that prints the numbers from $1$ to $100$. But for the multiples of three it must print “Fizz” instead of the number, and for the multiples of five it prints “Buzz”. For numbers which are multiples of both three and five, it must print “FizzBuzz”.\n",
    "\n",
    "4. Make a program that takes three integer numbers: $a$, $b$ and $c$, where $a$ must be greater than $1$. The program must return the sum of all integers between $b$ and $c$ that are multiples of $a$ (including $b$ and $c$).\n",
    "\n",
    "5. Make a program that takes a positive number $n$ (it should verify if $n$ is positive) and returns if $n$ is prime. Consider that: \n",
    "    * if $n=1$ or $n=2$, then $n$ is prime; \n",
    "    * it is only necessary to search by the dividers of $n$ in the range $2$ to $\\lfloor\\frac{n}{2}\\rfloor$.\n",
    "\n",
    "6. A palindrome is a sequence of characters that can be read from left to right or from right to left. Write a program that reads a positive integer with $5$ digits and determines if it is a palindrome. The program should verify invalid inputs (in this case, allow the user to enter with a new value).\n",
    "\n",
    "7. What would you have to change on the first for-loop in the Section (1.1) to make it go downward instead of upward? That is, instead of $i=1,2,3,\\ldots,n$ we would have $i=n,n-1,\\ldots,3,2,1$.\n",
    "\n",
    "8. Write an algorithm that takes a positive integer $n$. Next, the algorithm must read $n$ integers and return the largest and the smallest number among all the $n$ numbers.\n",
    "\n",
    "9. Write an algorithm that reads a positive integer $n$. Next, the algorithm must calculate the arithmetic progression from $1$ to $n$, that is: $1 + 2 + 3 + \\ldots + n$. It's known that this can be calculated by $\\frac{n(a_1 + a_n)}{2}$ where $a_1$ and $a_n$ are the first and last numbers, respectively. However, in this exercise you should make the calculation using a loop, even though you could use the formula as well to compare the values and make sure the algorithm is correct.\n",
    "\n",
    "10. Write an algorithm that reads a positive integer $n$ and calculates $n!$ (the factorial of $n$). Remember that: <br>\n",
    "    <center>$n! = n * (n-1) * (n-2) * \\ldots * 2 * 1$. </center>\n",
    "<b>Hint</b>: since the factorial operation has an exponential growth rate, test your program with small values for $n$."
   ]
  }
 ],
 "metadata": {
  "kernelspec": {
   "display_name": "SciJava",
   "language": "groovy",
   "name": "scijava"
  },
  "language_info": {
   "codemirror_mode": "groovy",
   "file_extension": "",
   "mimetype": "",
   "name": "scijava",
   "nbconverter_exporter": "",
   "pygments_lexer": "groovy",
   "version": "1.0"
  }
 },
 "nbformat": 4,
 "nbformat_minor": 2
}
