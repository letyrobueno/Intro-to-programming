{
 "cells": [
  {
   "cell_type": "markdown",
   "metadata": {},
   "source": [
    "# Introduction to Computer Programming with Java\n",
    "## (7) Data from files"
   ]
  },
  {
   "cell_type": "markdown",
   "metadata": {},
   "source": [
    "<p><i>Files</i> allow the program to access and send data external to it. Java allows you to deal with all types of input and output through an abstraction known as stream (channel, data stream). Streams are unidirectional and can be of two types:</p>\n",
    "\n",
    "* **Reading**: to get external information;\n",
    "* **Writing**: to send information.\n",
    "\n",
    "The package `java.io` defines a large number of classes for reading and writing streams. The classes are divided into two groups, based on the type of data on which they operate:\n",
    "* `InputStream` and `OutputStream`: I/O of binary data (as `byte`);\n",
    "* Reader and Writer: I/O of characters (as `char`) in Unicode standard (16 bits).\n",
    "\n",
    "<p><font color=\"blue\"><b>Example:</b></font></p>"
   ]
  },
  {
   "cell_type": "code",
   "execution_count": 11,
   "metadata": {},
   "outputs": [
    {
     "name": "stdout",
     "output_type": "stream",
     "text": [
      "Name: Jack Sparrow\n",
      "Age: 45\n",
      "Grade: 7.5\n",
      "Name: Bruce Banner\n",
      "Age: 31\n",
      "Grade: 7.0\n",
      "Name: Tony Stark\n",
      "Age: 34\n",
      "Grade: 8.5\n"
     ]
    }
   ],
   "source": [
    "import java.io.*;\n",
    "\n",
    "void writesFile(String nameFile, String[] vet1, int[] vet2, double[] vet3) {\n",
    "    try {\n",
    "        FileWriter arq = new FileWriter(nameFile);\n",
    "        PrintWriter out = new PrintWriter(arq);\n",
    "        for (int i = 0; i < vet1.length; i++) {\n",
    "            String line = vet1[i] + \":\" + vet2[i] + \":\"+ vet3[i];\n",
    "            out.println(line);\n",
    "        }\n",
    "        out.close();\n",
    "    } catch (IOException e) {\n",
    "        System.out.println(\"Error writing data\");\n",
    "    }\n",
    "}\n",
    "\n",
    "void readsFile(String nameFile) {\n",
    "    try {\n",
    "        FileReader ent = new FileReader(nameFile);\n",
    "        BufferedReader br = new BufferedReader(ent);\n",
    "        String line;\n",
    "        String[] fields = null;\n",
    "        while ((line = br.readLine()) != null) {\n",
    "            fields = line.split(\":\");\n",
    "            String name = fields[ 0];\n",
    "            int age = Integer.parseInt(fields[1]);\n",
    "            double grade = Double.parseDouble(fields[2]);\n",
    "            System.out.println(\"Name: \" + name + \"\\nAge: \" + age + \"\\nGrade: \" + grade);\n",
    "        }\n",
    "        br.close();\n",
    "    } catch (IOException e) {\n",
    "        System.out.println(\"Error reading data\");\n",
    "    }\n",
    "} \n",
    "\n",
    "String[] name = new String[3];\n",
    "int[] age = new int[3];\n",
    "double[] grade = new double[3];\n",
    "name[0] = \"Jack Sparrow\";\n",
    "name[1] = \"Bruce Banner\";\n",
    "name[2] = \"Tony Stark\";\n",
    "age[0] = 45;\n",
    "age[1] = 31;\n",
    "age[2] = 34;\n",
    "grade[0] = 7.5;\n",
    "grade[1] = 7;\n",
    "grade[2] = 8.5;\n",
    "\n",
    "writesFile(\"test.dat\", name, age, grade);\n",
    "readsFile(\"test.dat\");"
   ]
  }
 ],
 "metadata": {
  "kernelspec": {
   "display_name": "SciJava",
   "language": "groovy",
   "name": "scijava"
  },
  "language_info": {
   "codemirror_mode": "groovy",
   "file_extension": "",
   "mimetype": "",
   "name": "scijava",
   "nbconverter_exporter": "",
   "pygments_lexer": "groovy",
   "version": "1.0"
  }
 },
 "nbformat": 4,
 "nbformat_minor": 2
}
