{
 "cells": [
  {
   "cell_type": "markdown",
   "metadata": {},
   "source": [
    "# Introduction to Computer Programming in Java\n",
    "## (5) Data Structures: Matrices"
   ]
  },
  {
   "cell_type": "markdown",
   "metadata": {},
   "source": [
    "<p>A <i>matrix</i> is an array with two dimensions and is often used to represent tables of values that consist of information arranged in rows and columns. To identify an element of a table we must specify two indexes: the first one refers to the row of the element, and the second to its column. Java does not support multidimensional arrays directly, but it allows the programmer to specify 1-dimensional array whose elements are also 1-dimensional arrays.</p>\n",
    "\n",
    "The syntax for defining a matrix is very similar to those for arrays. What changes is that there is another dimension for defining lines. For example, we define a matrix with $5$ rows and $5$ columns as follows:\n",
    "\n",
    "```java\n",
    "int[][] matrix = new int[5][5];\n",
    "```\n",
    "or equivalently: `int matrix[][] = new int[5][5];` (<font color=\"red\"><b>not currently supported by SciJava</b></font>).\n",
    "\n",
    "The first part of the command, `int[][] matrix` corresponds to the matrix declaration. As in the case of arrays, the `new` operator is required to create a matrix instance, and must indicate the type of data and the number of positions of the structure. To assign values to a matrix, we do as in this example:\n",
    "\n",
    "```java\n",
    "matrix[0][0] = 1;\n",
    "matrix[0][1] = 2;        \n",
    "matrix[0][2] = 3;\n",
    "matrix[0][3] = 4;        \n",
    "matrix[0][4] = 5;        \n",
    "\n",
    "matrix[1][0] = 6;\n",
    "matrix[1][1] = 7;        \n",
    "matrix[1][2] = 8;\n",
    "matrix[1][3] = 9;        \n",
    "matrix[1][4] = 10;\n",
    "```\n",
    "\n",
    "Also, we could assign values to a matrix as we declare it (<font color=\"red\"><b>not currently supported by SciJava</b></font>):\n",
    "\n",
    "```java\n",
    "int[][] matrix = {{34, 56, 4, 78, 89}, \n",
    "                  {-7, 36, 81, 32, -23}, \n",
    "                  {2, 45, 53, 62, 25}, \n",
    "                  {12, 17, 28, 74, 33},\n",
    "            \t  {65, -34, 47, 8, 1} };\n",
    "```                        \n",
    "\n",
    "This creates the following structure in the memory (numbers in red represent the indexes):\n",
    "<table style=\"width:100%\">\n",
    "  <tr>\n",
    "    <td style=\"text-align: right; width: 10%;\"></td>\n",
    "    <td style=\"text-align: center; width: 10%; color:red;\">0</td>\n",
    "    <td style=\"text-align: center; width: 10%; color:red;\">1</td>\n",
    "    <td style=\"text-align: center; width: 10%; color:red;\">2</td>\n",
    "    <td style=\"text-align: center; width: 10%; color:red;\">3</td>\n",
    "    <td style=\"text-align: center; width: 10%; color:red;\">4</td>    \n",
    "  </tr>\n",
    "  \n",
    "  <tr>\n",
    "    <td style=\"text-align: right; width: 10%; padding-right: 10px; color:red;\">0</td>\n",
    "    <td style=\"border: 1px solid #dddddd; text-align: center; width: 10%;\">34</td>\n",
    "    <td style=\"border: 1px solid #dddddd; text-align: center; width: 10%;\">56</td>\n",
    "    <td style=\"border: 1px solid #dddddd; text-align: center; width: 10%;\">4</td>\n",
    "    <td style=\"border: 1px solid #dddddd; text-align: center; width: 10%;\">78</td>\n",
    "    <td style=\"border: 1px solid #dddddd; text-align: center; width: 10%;\">89</td>\n",
    "  </tr>\n",
    "  \n",
    "  <tr>\n",
    "    <td style=\"text-align: right; width: 10%; padding-right: 10px; color:red;\">1</td>\n",
    "    <td style=\"border: 1px solid #dddddd; text-align: center; width: 10%;\">-7</td> \n",
    "    <td style=\"border: 1px solid #dddddd; text-align: center; width: 10%;\">36</td>\n",
    "    <td style=\"border: 1px solid #dddddd; text-align: center; width: 10%;\">81</td>\n",
    "    <td style=\"border: 1px solid #dddddd; text-align: center; width: 10%;\">32</td>\n",
    "    <td style=\"border: 1px solid #dddddd; text-align: center; width: 10%;\">-23</td>    \n",
    "  </tr>\n",
    "  \n",
    "  <tr>\n",
    "    <td style=\"text-align: right; width: 10%; padding-right: 10px; color:red;\">2</td>\n",
    "    <td style=\"border: 1px solid #dddddd; text-align: center; width: 10%;\">2</td>\n",
    "    <td style=\"border: 1px solid #dddddd; text-align: center; width: 10%;\">45</td>\n",
    "    <td style=\"border: 1px solid #dddddd; text-align: center; width: 10%;\">53</td>\n",
    "    <td style=\"border: 1px solid #dddddd; text-align: center; width: 10%;\">62</td>\n",
    "    <td style=\"border: 1px solid #dddddd; text-align: center; width: 10%;\">25</td> \n",
    "  </tr>\n",
    "  \n",
    "  <tr>\n",
    "    <td style=\"text-align: right; width: 10%; padding-right: 10px; color:red;\">3</td>\n",
    "    <td style=\"border: 1px solid #dddddd; text-align: center; width: 10%;\">12</td>\n",
    "    <td style=\"border: 1px solid #dddddd; text-align: center; width: 10%;\">17</td>\n",
    "    <td style=\"border: 1px solid #dddddd; text-align: center; width: 10%;\">28</td>\n",
    "    <td style=\"border: 1px solid #dddddd; text-align: center; width: 10%;\">74</td>\n",
    "    <td style=\"border: 1px solid #dddddd; text-align: center; width: 10%;\">33</td>  \n",
    "  </tr>  \n",
    "  \n",
    "  <tr>\n",
    "    <td style=\"text-align: right; width: 10%; padding-right: 10px; color:red;\">4</td>\n",
    "    <td style=\"border: 1px solid #dddddd; text-align: center; width: 10%;\">65</td>\n",
    "    <td style=\"border: 1px solid #dddddd; text-align: center; width: 10%;\">-34</td>\n",
    "    <td style=\"border: 1px solid #dddddd; text-align: center; width: 10%;\">47</td>\n",
    "    <td style=\"border: 1px solid #dddddd; text-align: center; width: 10%;\">8</td>\n",
    "    <td style=\"border: 1px solid #dddddd; text-align: center; width: 10%;\">1</td>  \n",
    "  </tr>  \n",
    "</table>\n",
    "\n",
    "<p><font color=\"blue\"><b>Example:</b></font></p>"
   ]
  },
  {
   "cell_type": "code",
   "execution_count": 44,
   "metadata": {},
   "outputs": [
    {
     "name": "stdout",
     "output_type": "stream",
     "text": [
      "      0    1    2    3    4    \n",
      "\n",
      "0     1    2    3    4    5 \n",
      "1     6    7    8    9   10 \n",
      "2    11   12   13   14   15 \n",
      "3    16   17   18   19   20 \n",
      "4    21   22   23   24   25 \n"
     ]
    }
   ],
   "source": [
    "int[][] M = new int[5][5];\n",
    "int cont = 1;\n",
    "String str = \"      \";\n",
    "\n",
    "// it assigns some values to M\n",
    "for (int line = 0; line < M.length; line++) {\n",
    "    str = str + line + \"    \";\n",
    "    for (int column = 0; column < M[0].length; column++) {\n",
    "        M[line][column] = cont;\n",
    "        cont++;\n",
    "    }\n",
    "}\n",
    "System.out.println(str + \"\\n\");\n",
    "\n",
    "// it prints the elements of M\n",
    "for (int line = 0; line < M.length; line++) {\n",
    "    System.out.print(line + \"  \");\n",
    "    for (int column = 0; column < M[0].length; column++) {\n",
    "        System.out.printf(\" %3d \", M[line][column]);\n",
    "    }\n",
    "    System.out.println();\n",
    "}"
   ]
  },
  {
   "cell_type": "markdown",
   "metadata": {},
   "source": [
    "## Java Specifics"
   ]
  },
  {
   "cell_type": "markdown",
   "metadata": {},
   "source": [
    "Java does not support matrices directly, making them 1-dimensional arrays whose elements are also 1-dimensional arrays. This allows elements of the main array (which would form the lines) to be arrays of different sizes.\n",
    "\n",
    "Next, we show an example where we have a 2-dimensional array with different sizes of columns (<font color=\"red\"><b>not currently supported by SciJava</b></font>)."
   ]
  },
  {
   "cell_type": "code",
   "execution_count": null,
   "metadata": {},
   "outputs": [],
   "source": [
    "int M[][] = { {4, 78, 89}, {-7, 36, 81, 32, -23}, {2, 45, 53,25}, {12, 17}, {65, -34, 47, 8, 1} };\n",
    "\n",
    "for (int line = 0; line < M.length; line++) {\n",
    "    for (int column = 0; column < M[line].length; column++) {\n",
    "        System.out.printf(\"%d \", M[line][column]);\n",
    "    }\n",
    "    System.out.println();\n",
    "}"
   ]
  },
  {
   "cell_type": "markdown",
   "metadata": {},
   "source": [
    "## For-loops for multidimensional arrays\n",
    "\n",
    "There is an improved framework to iterate arrays in Java. This structure can even work with multidimensional arrays and iterate through the elements, regardless the size or indices of the array. See an example below. Note that the number of elements (columns) in each row is different."
   ]
  },
  {
   "cell_type": "code",
   "execution_count": null,
   "metadata": {},
   "outputs": [],
   "source": [
    "int M[][]={ {4,78,89}, {-7,36,81,32,-23}, {2,45,53,25}, {12,17}, {65,-34,47,8,1} };\n",
    "    \n",
    "for (int array[] : M) {\n",
    "    for (int element : array) {\n",
    "        System.out.printf(\"%d \",element);\n",
    "    }\n",
    "    System.out.println();\n",
    "}"
   ]
  },
  {
   "cell_type": "markdown",
   "metadata": {},
   "source": [
    "## Exercises\n",
    "\n",
    "1. Make a program that reads a $5 \\times 5$ matrix of real numbers, computes and shows its transposed matrix.\n",
    "\n",
    "2. Make a program that reads two $4 \\times 4$ matrices of real numbers, computes and shows the multiplication between them.\n",
    "\n",
    "3. Make a program that takes the number of a set of students, and the number of tests they have done over a semester. Then the program should ask for the grades of all students in each test, and calculate the average of each student and the average of each test. At the end, the program should show the student averages, the means of each test and the general average of the class."
   ]
  }
 ],
 "metadata": {
  "kernelspec": {
   "display_name": "SciJava",
   "language": "groovy",
   "name": "scijava"
  },
  "language_info": {
   "codemirror_mode": "groovy",
   "file_extension": "",
   "mimetype": "",
   "name": "scijava",
   "nbconverter_exporter": "",
   "pygments_lexer": "groovy",
   "version": "1.0"
  }
 },
 "nbformat": 4,
 "nbformat_minor": 2
}
