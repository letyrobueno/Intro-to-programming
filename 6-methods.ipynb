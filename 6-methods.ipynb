{
 "cells": [
  {
   "cell_type": "markdown",
   "metadata": {},
   "source": [
    "# Introduction to Computer Programming in Java\n",
    "## (6) Methods"
   ]
  },
  {
   "cell_type": "markdown",
   "metadata": {},
   "source": [
    "<p>A <i>method</i> &mdash; also called <i>function</i> or <i>procedure</i> &mdash; is a block of code that we name and we call (or invoke) at some point along a program. They are only executed if they are called, and can receive data &mdash; called <i>parameters</i>.</p>\n",
    "    \n",
    "<p>When the name of a method is found in a program, the execution goes to that method. After the method finishes, execution returns to the point from which it was called, and the program goes on to the next line of code.</p>\n",
    "\n",
    "<p>Methods are very useful to reuse code and, therefore, fundamental to modularize the code, which by its turn is important to keep the code organized and efficient. We write a method once but we can use it many times. A good evidence that some part of the code needs to be enclosed into a method is that if we use it more than once.</p>\n",
    "\n",
    "<p>Methods can be classified in: </p>\n",
    "\n",
    "### (6.1) Built-in Methods\n",
    "\n",
    "Build-in methods are pre-defined methods included in the compiler/interpreter package. For example, in Java, some buit-in methods that we already used are `System.out.println()`, and `System.out.printf()`.\n",
    "\n",
    "\n",
    "### (6.2) User-defined Methods\n",
    "\n",
    "User-defined methods are created by programmers. We name them and create tasks to them to perform. They can be called as many times as we need to. Also, all the structures that we already studied can go inside a method: `if`, `for`, `while`, etc. We classify them in:\n",
    "\n",
    "#### (6.2.1) With no parameters and no return\n",
    "\n",
    "We use the `void` keyword to indicate that the method should not return a value, just execute some processing. <font color=\"blue\"><b>Example:</b></font>\n",
    "\n",
    "```java\n",
    "// This method prints a goodbye message \n",
    "void endMsg(){\n",
    "    System.out.println(\"End of the program\");\n",
    "}\n",
    "\n",
    "endMsg(); // a call for the method\n",
    "```\n",
    "    \n",
    "#### (6.2.2) With parameters and no return\n",
    "\n",
    "Notice that the parameter acts as a variable inside the method. <font color=\"blue\"><b>Example:</b></font>\n",
    "\n",
    "```java\n",
    "// This method prints any message passed to it\n",
    "void write(String str){\n",
    "    System.out.println(str);\n",
    "}\n",
    "\n",
    "write(\"Hello World!\"); // a call for the method\n",
    "```\n",
    "\n",
    "#### (6.2.3) With no parameters and return\n",
    "\n",
    "When we want the method to return a value, we use a data type (such as `int`, `String`, `char`, etc.) instead of `void`, and use the `return` keyword inside the method. <font color=\"blue\"><b>Example:</b></font>\n",
    "\n",
    "```java\n",
    "// This method returns a string with the message \"Welcome\"\n",
    "String welcomeMsg(){\n",
    "    return \"Welcome!\";\n",
    "}\n",
    "\n",
    "String answer = welcomeMsg(); // it calls the method and receives its answer\n",
    "System.out.println(answer); // you can now do whatever you need with that\n",
    "// equivalently, we could use directly: System.out.println(welcomeMsg());\n",
    "```\n",
    "    \n",
    "#### (6.2.4) With parameters and return\n",
    "\n",
    "Notice that we can use as many parameters we need. We just have to separate them using comma. <font color=\"blue\"><b>Example:</b></font>\n",
    "\n",
    "```java\n",
    "// This method takes two numbers as parameters and returns the multiplication between them\n",
    "int multiply(int x, int y){\n",
    "    return x * y;\n",
    "}\n",
    "\n",
    "int answer = multiply(2,5);\n",
    "```\n",
    "\n",
    "Test these methods in the cell below:"
   ]
  },
  {
   "cell_type": "code",
   "execution_count": null,
   "metadata": {},
   "outputs": [],
   "source": []
  },
  {
   "cell_type": "markdown",
   "metadata": {},
   "source": [
    "## Examples\n",
    "\n",
    "### 1. First Example\n",
    "\n",
    "Do you remember the factorial of a number that we calculated in a previous exercise? Let's put it now into a method:"
   ]
  },
  {
   "cell_type": "code",
   "execution_count": null,
   "metadata": {},
   "outputs": [
    {
     "name": "stdout",
     "output_type": "stream",
     "text": [
      "Result: 5! = 120\n"
     ]
    }
   ],
   "source": [
    "import javax.swing.JOptionPane;\n",
    "\n",
    "int n = Integer.parseInt(JOptionPane.showInputDialog(\"Enter with the a number: \"));\n",
    "\n",
    "long factorial(int n) {\n",
    "    long f = 1;\n",
    "    for (int i=2; i<=n; i++) {\n",
    "        f = f * i;\n",
    "    }\n",
    "    return f;\n",
    "}\n",
    "\n",
    "long result = factorial(n);\n",
    "System.out.println(\"Result: \" + n + \"! = \" + result);"
   ]
  },
  {
   "cell_type": "markdown",
   "metadata": {},
   "source": [
    "## Exercises\n",
    "\n",
    "1. Create methods to convert temperatures in degrees Celsius, Fahrenheit, and Kelvin. Create a method for each conversion (Celsius to Fahrenheit, Fahrenheit to Celsius, and so on). Consider that:\n",
    "    * Fahrenheit = 1.8 * (Celsius) +  32\n",
    "    * Kelvin = (Celsius) + 273.15 \n",
    "<br>\n",
    "\n",
    "2. Create a method to calculate and print the sum of the multiples of $5$ that lie between the integer numbers $a$ and $b$ (provided by the user). Your program should not allow negative values for $a$ and $b$, and you should check if $a$ is less than $b$. If $a$ is greater than $b$, exchange the values between the two variables.\n",
    "\n",
    "3. Write a method to calculate the power of a number (without using `Math.pow`). <b>Hint</b>: use repetition.\n",
    "\n",
    "4. For the code below:\n",
    "    * Write methods for the following arithmetic operations: subtraction, multiplication and division;\n",
    "    * Each method (including the addition) should receive the two numbers as parameters, instead of asking for them to the user inside the method. This means the information must be taken before calling the methods;\n",
    "    * Don't forget to add the new operations as options in the message to the user;\n",
    "    * Also, pay attention to check the divider, which cannot be zero."
   ]
  },
  {
   "cell_type": "code",
   "execution_count": 12,
   "metadata": {},
   "outputs": [
    {
     "name": "stdout",
     "output_type": "stream",
     "text": [
      "Result: 2.0 + 3.0 = 5.0\n"
     ]
    }
   ],
   "source": [
    "import javax.swing.JOptionPane;\n",
    "\n",
    "int option;\n",
    "\n",
    "// method with no return\n",
    "void modAddition() {\n",
    "    double v1;\n",
    "    double v2;\n",
    "    double res;\n",
    "    v1 = Double.parseDouble(JOptionPane.showInputDialog(\"Enter with the first number: \"));\n",
    "    v2 = Double.parseDouble(JOptionPane.showInputDialog(\"Enter with the second number: \"));\n",
    "    res = v1 + v2;\n",
    "    System.out.println(\"Result: \" + v1 + \" + \" + v2 + \" = \" + res);\n",
    "}\n",
    "\n",
    "option = Integer.parseInt(JOptionPane.showInputDialog(\"Choose an option: \\n\" + \"1 – addition\\n\"));\n",
    "\n",
    "if (option == 1) {\n",
    "    modAddition();\n",
    "}"
   ]
  }
 ],
 "metadata": {
  "kernelspec": {
   "display_name": "SciJava",
   "language": "groovy",
   "name": "scijava"
  },
  "language_info": {
   "codemirror_mode": "groovy",
   "file_extension": "",
   "mimetype": "",
   "name": "scijava",
   "nbconverter_exporter": "",
   "pygments_lexer": "groovy",
   "version": "1.0"
  }
 },
 "nbformat": 4,
 "nbformat_minor": 2
}
